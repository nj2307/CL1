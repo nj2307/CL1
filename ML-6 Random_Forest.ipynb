{
 "cells": [
  {
   "cell_type": "code",
   "execution_count": 1,
   "id": "22a727e3",
   "metadata": {
    "execution": {
     "iopub.execute_input": "2023-09-29T04:33:43.733287Z",
     "iopub.status.busy": "2023-09-29T04:33:43.732954Z",
     "iopub.status.idle": "2023-09-29T04:33:44.106130Z",
     "shell.execute_reply": "2023-09-29T04:33:44.105183Z"
    },
    "papermill": {
     "duration": 0.383328,
     "end_time": "2023-09-29T04:33:44.108488",
     "exception": false,
     "start_time": "2023-09-29T04:33:43.725160",
     "status": "completed"
    },
    "tags": []
   },
   "outputs": [],
   "source": [
    "import pandas as pd\n",
    "from sklearn.model_selection import train_test_split\n",
    "import category_encoders as ce\n",
    "from sklearn.ensemble import RandomForestClassifier\n",
    "from sklearn.metrics import accuracy_score"
   ]
  },
  {
   "cell_type": "code",
   "execution_count": 2,
   "id": "fa0eb6be",
   "metadata": {
    "execution": {
     "iopub.execute_input": "2023-09-29T04:33:44.123251Z",
     "iopub.status.busy": "2023-09-29T04:33:44.122803Z",
     "iopub.status.idle": "2023-09-29T04:33:44.149671Z",
     "shell.execute_reply": "2023-09-29T04:33:44.148736Z"
    },
    "papermill": {
     "duration": 0.035465,
     "end_time": "2023-09-29T04:33:44.151992",
     "exception": false,
     "start_time": "2023-09-29T04:33:44.116527",
     "status": "completed"
    },
    "tags": []
   },
   "outputs": [],
   "source": [
    "df=pd.read_csv(\"car_evaluation.csv\",encoding = ('ISO-8859-1'), low_memory=False)"
   ]
  },
  {
   "cell_type": "code",
   "execution_count": 3,
   "id": "f8514625",
   "metadata": {
    "execution": {
     "iopub.execute_input": "2023-09-29T04:33:44.162147Z",
     "iopub.status.busy": "2023-09-29T04:33:44.161778Z",
     "iopub.status.idle": "2023-09-29T04:33:44.182234Z",
     "shell.execute_reply": "2023-09-29T04:33:44.181457Z"
    },
    "papermill": {
     "duration": 0.027576,
     "end_time": "2023-09-29T04:33:44.184016",
     "exception": false,
     "start_time": "2023-09-29T04:33:44.156440",
     "status": "completed"
    },
    "tags": []
   },
   "outputs": [
    {
     "data": {
      "text/html": [
       "<div>\n",
       "<style scoped>\n",
       "    .dataframe tbody tr th:only-of-type {\n",
       "        vertical-align: middle;\n",
       "    }\n",
       "\n",
       "    .dataframe tbody tr th {\n",
       "        vertical-align: top;\n",
       "    }\n",
       "\n",
       "    .dataframe thead th {\n",
       "        text-align: right;\n",
       "    }\n",
       "</style>\n",
       "<table border=\"1\" class=\"dataframe\">\n",
       "  <thead>\n",
       "    <tr style=\"text-align: right;\">\n",
       "      <th></th>\n",
       "      <th>vhigh</th>\n",
       "      <th>vhigh.1</th>\n",
       "      <th>2</th>\n",
       "      <th>2.1</th>\n",
       "      <th>small</th>\n",
       "      <th>low</th>\n",
       "      <th>unacc</th>\n",
       "    </tr>\n",
       "  </thead>\n",
       "  <tbody>\n",
       "    <tr>\n",
       "      <th>0</th>\n",
       "      <td>vhigh</td>\n",
       "      <td>vhigh</td>\n",
       "      <td>2</td>\n",
       "      <td>2</td>\n",
       "      <td>small</td>\n",
       "      <td>med</td>\n",
       "      <td>unacc</td>\n",
       "    </tr>\n",
       "    <tr>\n",
       "      <th>1</th>\n",
       "      <td>vhigh</td>\n",
       "      <td>vhigh</td>\n",
       "      <td>2</td>\n",
       "      <td>2</td>\n",
       "      <td>small</td>\n",
       "      <td>high</td>\n",
       "      <td>unacc</td>\n",
       "    </tr>\n",
       "    <tr>\n",
       "      <th>2</th>\n",
       "      <td>vhigh</td>\n",
       "      <td>vhigh</td>\n",
       "      <td>2</td>\n",
       "      <td>2</td>\n",
       "      <td>med</td>\n",
       "      <td>low</td>\n",
       "      <td>unacc</td>\n",
       "    </tr>\n",
       "    <tr>\n",
       "      <th>3</th>\n",
       "      <td>vhigh</td>\n",
       "      <td>vhigh</td>\n",
       "      <td>2</td>\n",
       "      <td>2</td>\n",
       "      <td>med</td>\n",
       "      <td>med</td>\n",
       "      <td>unacc</td>\n",
       "    </tr>\n",
       "    <tr>\n",
       "      <th>4</th>\n",
       "      <td>vhigh</td>\n",
       "      <td>vhigh</td>\n",
       "      <td>2</td>\n",
       "      <td>2</td>\n",
       "      <td>med</td>\n",
       "      <td>high</td>\n",
       "      <td>unacc</td>\n",
       "    </tr>\n",
       "  </tbody>\n",
       "</table>\n",
       "</div>"
      ],
      "text/plain": [
       "   vhigh vhigh.1  2 2.1  small   low  unacc\n",
       "0  vhigh   vhigh  2   2  small   med  unacc\n",
       "1  vhigh   vhigh  2   2  small  high  unacc\n",
       "2  vhigh   vhigh  2   2    med   low  unacc\n",
       "3  vhigh   vhigh  2   2    med   med  unacc\n",
       "4  vhigh   vhigh  2   2    med  high  unacc"
      ]
     },
     "execution_count": 3,
     "metadata": {},
     "output_type": "execute_result"
    }
   ],
   "source": [
    "df.head()"
   ]
  },
  {
   "cell_type": "code",
   "execution_count": 4,
   "id": "9dba6df5",
   "metadata": {
    "execution": {
     "iopub.execute_input": "2023-09-29T04:33:44.194438Z",
     "iopub.status.busy": "2023-09-29T04:33:44.194101Z",
     "iopub.status.idle": "2023-09-29T04:33:44.224719Z",
     "shell.execute_reply": "2023-09-29T04:33:44.223439Z"
    },
    "papermill": {
     "duration": 0.038504,
     "end_time": "2023-09-29T04:33:44.226926",
     "exception": false,
     "start_time": "2023-09-29T04:33:44.188422",
     "status": "completed"
    },
    "tags": []
   },
   "outputs": [
    {
     "data": {
      "text/html": [
       "<div>\n",
       "<style scoped>\n",
       "    .dataframe tbody tr th:only-of-type {\n",
       "        vertical-align: middle;\n",
       "    }\n",
       "\n",
       "    .dataframe tbody tr th {\n",
       "        vertical-align: top;\n",
       "    }\n",
       "\n",
       "    .dataframe thead th {\n",
       "        text-align: right;\n",
       "    }\n",
       "</style>\n",
       "<table border=\"1\" class=\"dataframe\">\n",
       "  <thead>\n",
       "    <tr style=\"text-align: right;\">\n",
       "      <th></th>\n",
       "      <th>vhigh</th>\n",
       "      <th>vhigh.1</th>\n",
       "      <th>2</th>\n",
       "      <th>2.1</th>\n",
       "      <th>small</th>\n",
       "      <th>low</th>\n",
       "      <th>unacc</th>\n",
       "    </tr>\n",
       "  </thead>\n",
       "  <tbody>\n",
       "    <tr>\n",
       "      <th>count</th>\n",
       "      <td>1727</td>\n",
       "      <td>1727</td>\n",
       "      <td>1727</td>\n",
       "      <td>1727</td>\n",
       "      <td>1727</td>\n",
       "      <td>1727</td>\n",
       "      <td>1727</td>\n",
       "    </tr>\n",
       "    <tr>\n",
       "      <th>unique</th>\n",
       "      <td>4</td>\n",
       "      <td>4</td>\n",
       "      <td>4</td>\n",
       "      <td>3</td>\n",
       "      <td>3</td>\n",
       "      <td>3</td>\n",
       "      <td>4</td>\n",
       "    </tr>\n",
       "    <tr>\n",
       "      <th>top</th>\n",
       "      <td>high</td>\n",
       "      <td>high</td>\n",
       "      <td>3</td>\n",
       "      <td>4</td>\n",
       "      <td>med</td>\n",
       "      <td>med</td>\n",
       "      <td>unacc</td>\n",
       "    </tr>\n",
       "    <tr>\n",
       "      <th>freq</th>\n",
       "      <td>432</td>\n",
       "      <td>432</td>\n",
       "      <td>432</td>\n",
       "      <td>576</td>\n",
       "      <td>576</td>\n",
       "      <td>576</td>\n",
       "      <td>1209</td>\n",
       "    </tr>\n",
       "  </tbody>\n",
       "</table>\n",
       "</div>"
      ],
      "text/plain": [
       "       vhigh vhigh.1     2   2.1 small   low  unacc\n",
       "count   1727    1727  1727  1727  1727  1727   1727\n",
       "unique     4       4     4     3     3     3      4\n",
       "top     high    high     3     4   med   med  unacc\n",
       "freq     432     432   432   576   576   576   1209"
      ]
     },
     "execution_count": 4,
     "metadata": {},
     "output_type": "execute_result"
    }
   ],
   "source": [
    "df.describe()"
   ]
  },
  {
   "cell_type": "code",
   "execution_count": 5,
   "id": "14748352",
   "metadata": {
    "execution": {
     "iopub.execute_input": "2023-09-29T04:33:44.237948Z",
     "iopub.status.busy": "2023-09-29T04:33:44.237582Z",
     "iopub.status.idle": "2023-09-29T04:33:44.244624Z",
     "shell.execute_reply": "2023-09-29T04:33:44.243599Z"
    },
    "papermill": {
     "duration": 0.015152,
     "end_time": "2023-09-29T04:33:44.246688",
     "exception": false,
     "start_time": "2023-09-29T04:33:44.231536",
     "status": "completed"
    },
    "tags": []
   },
   "outputs": [
    {
     "data": {
      "text/plain": [
       "['buying', 'maint', 'doors', 'persons', 'lug_boot', 'safety', 'class']"
      ]
     },
     "execution_count": 5,
     "metadata": {},
     "output_type": "execute_result"
    }
   ],
   "source": [
    "col_names = ['buying', 'maint', 'doors', 'persons', 'lug_boot', 'safety', 'class']\n",
    "\n",
    "df.columns=col_names\n",
    "col_names"
   ]
  },
  {
   "cell_type": "code",
   "execution_count": 6,
   "id": "a943863d",
   "metadata": {
    "execution": {
     "iopub.execute_input": "2023-09-29T04:33:44.258063Z",
     "iopub.status.busy": "2023-09-29T04:33:44.257617Z",
     "iopub.status.idle": "2023-09-29T04:33:44.270744Z",
     "shell.execute_reply": "2023-09-29T04:33:44.268937Z"
    },
    "papermill": {
     "duration": 0.021137,
     "end_time": "2023-09-29T04:33:44.272858",
     "exception": false,
     "start_time": "2023-09-29T04:33:44.251721",
     "status": "completed"
    },
    "tags": []
   },
   "outputs": [
    {
     "name": "stdout",
     "output_type": "stream",
     "text": [
      "high     432\n",
      "med      432\n",
      "low      432\n",
      "vhigh    431\n",
      "Name: buying, dtype: int64\n",
      "high     432\n",
      "med      432\n",
      "low      432\n",
      "vhigh    431\n",
      "Name: maint, dtype: int64\n",
      "3        432\n",
      "4        432\n",
      "5more    432\n",
      "2        431\n",
      "Name: doors, dtype: int64\n",
      "4       576\n",
      "more    576\n",
      "2       575\n",
      "Name: persons, dtype: int64\n",
      "med      576\n",
      "big      576\n",
      "small    575\n",
      "Name: lug_boot, dtype: int64\n",
      "med     576\n",
      "high    576\n",
      "low     575\n",
      "Name: safety, dtype: int64\n",
      "unacc    1209\n",
      "acc       384\n",
      "good       69\n",
      "vgood      65\n",
      "Name: class, dtype: int64\n"
     ]
    }
   ],
   "source": [
    "for col in col_names:\n",
    "    print(df[col].value_counts())"
   ]
  },
  {
   "cell_type": "code",
   "execution_count": 7,
   "id": "353d7450",
   "metadata": {
    "execution": {
     "iopub.execute_input": "2023-09-29T04:33:44.341449Z",
     "iopub.status.busy": "2023-09-29T04:33:44.340855Z",
     "iopub.status.idle": "2023-09-29T04:33:44.349285Z",
     "shell.execute_reply": "2023-09-29T04:33:44.348158Z"
    },
    "papermill": {
     "duration": 0.01686,
     "end_time": "2023-09-29T04:33:44.351471",
     "exception": false,
     "start_time": "2023-09-29T04:33:44.334611",
     "status": "completed"
    },
    "tags": []
   },
   "outputs": [
    {
     "data": {
      "text/plain": [
       "buying      0\n",
       "maint       0\n",
       "doors       0\n",
       "persons     0\n",
       "lug_boot    0\n",
       "safety      0\n",
       "class       0\n",
       "dtype: int64"
      ]
     },
     "execution_count": 7,
     "metadata": {},
     "output_type": "execute_result"
    }
   ],
   "source": [
    "df.isnull().sum()"
   ]
  },
  {
   "cell_type": "code",
   "execution_count": 8,
   "id": "65a538d5",
   "metadata": {
    "execution": {
     "iopub.execute_input": "2023-09-29T04:33:44.363626Z",
     "iopub.status.busy": "2023-09-29T04:33:44.363308Z",
     "iopub.status.idle": "2023-09-29T04:33:44.370375Z",
     "shell.execute_reply": "2023-09-29T04:33:44.369269Z"
    },
    "papermill": {
     "duration": 0.015649,
     "end_time": "2023-09-29T04:33:44.372606",
     "exception": false,
     "start_time": "2023-09-29T04:33:44.356957",
     "status": "completed"
    },
    "tags": []
   },
   "outputs": [],
   "source": [
    "x=df.drop(['class'],axis=1)\n",
    "y=df['class']"
   ]
  },
  {
   "cell_type": "code",
   "execution_count": 9,
   "id": "3d530530",
   "metadata": {
    "execution": {
     "iopub.execute_input": "2023-09-29T04:33:44.385003Z",
     "iopub.status.busy": "2023-09-29T04:33:44.383901Z",
     "iopub.status.idle": "2023-09-29T04:33:45.712438Z",
     "shell.execute_reply": "2023-09-29T04:33:45.711650Z"
    },
    "papermill": {
     "duration": 1.337092,
     "end_time": "2023-09-29T04:33:45.714740",
     "exception": false,
     "start_time": "2023-09-29T04:33:44.377648",
     "status": "completed"
    },
    "tags": []
   },
   "outputs": [],
   "source": [
    "x_train,x_test,y_train,y_test=train_test_split(x,y,test_size=0.3,random_state=42)"
   ]
  },
  {
   "cell_type": "code",
   "execution_count": 10,
   "id": "2c1ce0df",
   "metadata": {
    "execution": {
     "iopub.execute_input": "2023-09-29T04:33:45.727139Z",
     "iopub.status.busy": "2023-09-29T04:33:45.726748Z",
     "iopub.status.idle": "2023-09-29T04:33:45.732779Z",
     "shell.execute_reply": "2023-09-29T04:33:45.731760Z"
    },
    "papermill": {
     "duration": 0.01483,
     "end_time": "2023-09-29T04:33:45.734801",
     "exception": false,
     "start_time": "2023-09-29T04:33:45.719971",
     "status": "completed"
    },
    "tags": []
   },
   "outputs": [
    {
     "data": {
      "text/plain": [
       "((1208, 6), (519, 6))"
      ]
     },
     "execution_count": 10,
     "metadata": {},
     "output_type": "execute_result"
    }
   ],
   "source": [
    "x_train.shape,x_test.shape"
   ]
  },
  {
   "cell_type": "code",
   "execution_count": 11,
   "id": "4064df3d",
   "metadata": {
    "execution": {
     "iopub.execute_input": "2023-09-29T04:33:45.746689Z",
     "iopub.status.busy": "2023-09-29T04:33:45.746094Z",
     "iopub.status.idle": "2023-09-29T04:33:46.402485Z",
     "shell.execute_reply": "2023-09-29T04:33:46.401393Z"
    },
    "papermill": {
     "duration": 0.664919,
     "end_time": "2023-09-29T04:33:46.404737",
     "exception": false,
     "start_time": "2023-09-29T04:33:45.739818",
     "status": "completed"
    },
    "tags": []
   },
   "outputs": [],
   "source": [
    "encoder = ce.OrdinalEncoder(cols=['buying', 'maint', 'doors', 'persons', 'lug_boot', 'safety'])\n",
    "x_train = encoder.fit_transform(x_train)\n",
    "x_test = encoder.transform(x_test)"
   ]
  },
  {
   "cell_type": "code",
   "execution_count": 12,
   "id": "1e4089c2",
   "metadata": {
    "execution": {
     "iopub.execute_input": "2023-09-29T04:33:46.416722Z",
     "iopub.status.busy": "2023-09-29T04:33:46.416330Z",
     "iopub.status.idle": "2023-09-29T04:33:46.426937Z",
     "shell.execute_reply": "2023-09-29T04:33:46.425810Z"
    },
    "papermill": {
     "duration": 0.018997,
     "end_time": "2023-09-29T04:33:46.429027",
     "exception": false,
     "start_time": "2023-09-29T04:33:46.410030",
     "status": "completed"
    },
    "tags": []
   },
   "outputs": [
    {
     "data": {
      "text/html": [
       "<div>\n",
       "<style scoped>\n",
       "    .dataframe tbody tr th:only-of-type {\n",
       "        vertical-align: middle;\n",
       "    }\n",
       "\n",
       "    .dataframe tbody tr th {\n",
       "        vertical-align: top;\n",
       "    }\n",
       "\n",
       "    .dataframe thead th {\n",
       "        text-align: right;\n",
       "    }\n",
       "</style>\n",
       "<table border=\"1\" class=\"dataframe\">\n",
       "  <thead>\n",
       "    <tr style=\"text-align: right;\">\n",
       "      <th></th>\n",
       "      <th>buying</th>\n",
       "      <th>maint</th>\n",
       "      <th>doors</th>\n",
       "      <th>persons</th>\n",
       "      <th>lug_boot</th>\n",
       "      <th>safety</th>\n",
       "    </tr>\n",
       "  </thead>\n",
       "  <tbody>\n",
       "    <tr>\n",
       "      <th>1177</th>\n",
       "      <td>1</td>\n",
       "      <td>1</td>\n",
       "      <td>1</td>\n",
       "      <td>1</td>\n",
       "      <td>1</td>\n",
       "      <td>1</td>\n",
       "    </tr>\n",
       "    <tr>\n",
       "      <th>585</th>\n",
       "      <td>2</td>\n",
       "      <td>2</td>\n",
       "      <td>2</td>\n",
       "      <td>2</td>\n",
       "      <td>2</td>\n",
       "      <td>2</td>\n",
       "    </tr>\n",
       "    <tr>\n",
       "      <th>1551</th>\n",
       "      <td>3</td>\n",
       "      <td>1</td>\n",
       "      <td>2</td>\n",
       "      <td>1</td>\n",
       "      <td>3</td>\n",
       "      <td>2</td>\n",
       "    </tr>\n",
       "    <tr>\n",
       "      <th>727</th>\n",
       "      <td>2</td>\n",
       "      <td>1</td>\n",
       "      <td>3</td>\n",
       "      <td>2</td>\n",
       "      <td>1</td>\n",
       "      <td>1</td>\n",
       "    </tr>\n",
       "    <tr>\n",
       "      <th>707</th>\n",
       "      <td>2</td>\n",
       "      <td>1</td>\n",
       "      <td>3</td>\n",
       "      <td>3</td>\n",
       "      <td>1</td>\n",
       "      <td>3</td>\n",
       "    </tr>\n",
       "  </tbody>\n",
       "</table>\n",
       "</div>"
      ],
      "text/plain": [
       "      buying  maint  doors  persons  lug_boot  safety\n",
       "1177       1      1      1        1         1       1\n",
       "585        2      2      2        2         2       2\n",
       "1551       3      1      2        1         3       2\n",
       "727        2      1      3        2         1       1\n",
       "707        2      1      3        3         1       3"
      ]
     },
     "execution_count": 12,
     "metadata": {},
     "output_type": "execute_result"
    }
   ],
   "source": [
    "x_train.head()"
   ]
  },
  {
   "cell_type": "code",
   "execution_count": 13,
   "id": "d13e9cf9",
   "metadata": {
    "execution": {
     "iopub.execute_input": "2023-09-29T04:33:46.441603Z",
     "iopub.status.busy": "2023-09-29T04:33:46.441280Z",
     "iopub.status.idle": "2023-09-29T04:33:47.023708Z",
     "shell.execute_reply": "2023-09-29T04:33:47.022607Z"
    },
    "papermill": {
     "duration": 0.591826,
     "end_time": "2023-09-29T04:33:47.026370",
     "exception": false,
     "start_time": "2023-09-29T04:33:46.434544",
     "status": "completed"
    },
    "tags": []
   },
   "outputs": [
    {
     "data": {
      "text/plain": [
       "RandomForestClassifier(random_state=0)"
      ]
     },
     "execution_count": 13,
     "metadata": {},
     "output_type": "execute_result"
    }
   ],
   "source": [
    "rfc=RandomForestClassifier(random_state=0)\n",
    "rfc.fit(x_train,y_train)"
   ]
  },
  {
   "cell_type": "code",
   "execution_count": 14,
   "id": "c8dd64c6",
   "metadata": {
    "execution": {
     "iopub.execute_input": "2023-09-29T04:33:47.039154Z",
     "iopub.status.busy": "2023-09-29T04:33:47.038505Z",
     "iopub.status.idle": "2023-09-29T04:33:47.058539Z",
     "shell.execute_reply": "2023-09-29T04:33:47.057369Z"
    },
    "papermill": {
     "duration": 0.02898,
     "end_time": "2023-09-29T04:33:47.060937",
     "exception": false,
     "start_time": "2023-09-29T04:33:47.031957",
     "status": "completed"
    },
    "tags": []
   },
   "outputs": [],
   "source": [
    "y_pred=rfc.predict(x_test)"
   ]
  },
  {
   "cell_type": "code",
   "execution_count": 15,
   "id": "d8eb0b0b",
   "metadata": {
    "execution": {
     "iopub.execute_input": "2023-09-29T04:33:47.074173Z",
     "iopub.status.busy": "2023-09-29T04:33:47.073465Z",
     "iopub.status.idle": "2023-09-29T04:33:47.080253Z",
     "shell.execute_reply": "2023-09-29T04:33:47.079509Z"
    },
    "papermill": {
     "duration": 0.015671,
     "end_time": "2023-09-29T04:33:47.082155",
     "exception": false,
     "start_time": "2023-09-29T04:33:47.066484",
     "status": "completed"
    },
    "tags": []
   },
   "outputs": [
    {
     "data": {
      "text/plain": [
       "0.928709055876686"
      ]
     },
     "execution_count": 15,
     "metadata": {},
     "output_type": "execute_result"
    }
   ],
   "source": [
    "accuracy_score(y_test,y_pred)"
   ]
  },
  {
   "cell_type": "code",
   "execution_count": 16,
   "id": "8a96dea5",
   "metadata": {
    "execution": {
     "iopub.execute_input": "2023-09-29T04:33:47.095162Z",
     "iopub.status.busy": "2023-09-29T04:33:47.094565Z",
     "iopub.status.idle": "2023-09-29T04:33:47.302900Z",
     "shell.execute_reply": "2023-09-29T04:33:47.301851Z"
    },
    "papermill": {
     "duration": 0.217446,
     "end_time": "2023-09-29T04:33:47.305269",
     "exception": false,
     "start_time": "2023-09-29T04:33:47.087823",
     "status": "completed"
    },
    "tags": []
   },
   "outputs": [
    {
     "data": {
      "text/plain": [
       "RandomForestClassifier(random_state=0)"
      ]
     },
     "execution_count": 16,
     "metadata": {},
     "output_type": "execute_result"
    }
   ],
   "source": [
    "rfc_100 = RandomForestClassifier(n_estimators=100, random_state=0)\n",
    "rfc_100.fit(x_train, y_train)"
   ]
  },
  {
   "cell_type": "code",
   "execution_count": 17,
   "id": "cc1e81d6",
   "metadata": {
    "execution": {
     "iopub.execute_input": "2023-09-29T04:33:47.319122Z",
     "iopub.status.busy": "2023-09-29T04:33:47.318435Z",
     "iopub.status.idle": "2023-09-29T04:33:47.341561Z",
     "shell.execute_reply": "2023-09-29T04:33:47.340517Z"
    },
    "papermill": {
     "duration": 0.032425,
     "end_time": "2023-09-29T04:33:47.343741",
     "exception": false,
     "start_time": "2023-09-29T04:33:47.311316",
     "status": "completed"
    },
    "tags": []
   },
   "outputs": [
    {
     "data": {
      "text/plain": [
       "0.928709055876686"
      ]
     },
     "execution_count": 17,
     "metadata": {},
     "output_type": "execute_result"
    }
   ],
   "source": [
    "y_pred_100=rfc_100.predict(x_test)\n",
    "accuracy_score(y_test,y_pred_100)"
   ]
  },
  {
   "cell_type": "code",
   "execution_count": null,
   "id": "f4916e1f",
   "metadata": {},
   "outputs": [],
   "source": []
  }
 ],
 "metadata": {
  "kernelspec": {
   "display_name": "Python 3 (ipykernel)",
   "language": "python",
   "name": "python3"
  },
  "language_info": {
   "codemirror_mode": {
    "name": "ipython",
    "version": 3
   },
   "file_extension": ".py",
   "mimetype": "text/x-python",
   "name": "python",
   "nbconvert_exporter": "python",
   "pygments_lexer": "ipython3",
   "version": "3.9.13"
  },
  "papermill": {
   "default_parameters": {},
   "duration": 7.461952,
   "end_time": "2023-09-29T04:33:47.982486",
   "environment_variables": {},
   "exception": null,
   "input_path": "__notebook__.ipynb",
   "output_path": "__notebook__.ipynb",
   "parameters": {},
   "start_time": "2023-09-29T04:33:40.520534",
   "version": "2.4.0"
  }
 },
 "nbformat": 4,
 "nbformat_minor": 5
}
